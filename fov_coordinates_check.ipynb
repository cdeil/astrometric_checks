{
 "cells": [
  {
   "cell_type": "markdown",
   "metadata": {},
   "source": [
    "# FOV coordinate checks for HAP-HD\n",
    "\n",
    "Some quick FOV coordinate checks for HAP-HD.\n",
    "\n",
    "See https://github.com/gammasky/hess-host-analyses/issues/12"
   ]
  },
  {
   "cell_type": "code",
   "execution_count": 1,
   "metadata": {
    "collapsed": true
   },
   "outputs": [],
   "source": [
    "%matplotlib inline\n",
    "import numpy as np\n",
    "import matplotlib.pyplot as plt\n",
    "plt.style.use('ggplot')"
   ]
  },
  {
   "cell_type": "code",
   "execution_count": 2,
   "metadata": {
    "collapsed": false
   },
   "outputs": [],
   "source": [
    "from astropy.table import Table\n",
    "table = Table.read('run_0018406_std_fullEnclosure_eventlist.fits', hdu='EVENTS')"
   ]
  },
  {
   "cell_type": "code",
   "execution_count": 3,
   "metadata": {
    "collapsed": false
   },
   "outputs": [
    {
     "name": "stdout",
     "output_type": "stream",
     "text": [
      "<Table length=8928>\n",
      "      name           mean           std            min           max     \n",
      "--------------- -------------- -------------- ------------- -------------\n",
      "       EVENT_ID  1633.79278674   5095.1758916             1        345378\n",
      "       BUNCH_ID  80.5175851254  45.5249218337             1           159\n",
      "         OBS_ID        18406.0            0.0         18406         18406\n",
      "           TIME  127987333.933  457.017012376 127986538.643 127988124.392\n",
      "         MULTIP  2.54782706093 0.764757575512             2             4\n",
      "        TELMASK 0.636956765233 0.480877161505         False          True\n",
      "             RA        83.6815        1.71395        52.989       106.497\n",
      "            DEC        24.4608         1.5983      -8.10739          41.7\n",
      "        DIR_ERR            0.0            0.0           0.0           0.0\n",
      "     SKYX_RADEC      0.0405274        1.61687      -17.7295       38.5221\n",
      "     SKYY_RADEC      0.0442747        1.60082      -40.3573       22.9085\n",
      "           DETX      0.0483162        1.62086       -17.424       43.9161\n",
      "           DETY      0.0489923        1.59581      -34.4186       25.0796\n",
      "FOV_ALTAZ_THETA        1.83096        1.28732     0.0141514       44.2412\n",
      "  FOV_ALTAZ_PHI        1.23251        102.372      -179.929       179.997\n",
      "  FOV_ALTAZ_LON     -0.0489651        1.58093      -23.6449       31.0001\n",
      "  FOV_ALTAZ_LAT      0.0324343        1.58798       -16.919       33.3021\n",
      "FOV_RADEC_THETA        1.83085        1.28724     0.0141506       44.2378\n",
      "  FOV_RADEC_PHI       -3.49854        104.411      -179.989       179.986\n",
      "  FOV_RADEC_LON      0.0444687        1.58047      -35.1596       21.7929\n",
      "  FOV_RADEC_LAT     -0.0393418        1.58817      -28.7963       17.1935\n",
      "            ALT          41.85        1.57715       24.7476       62.4672\n",
      "             AZ         9.9255        30.1422     0.0692331       359.972\n",
      "          COREX         6.5957         266.61       -1670.8       1398.92\n",
      "          COREY       -1.04607         242.48      -1590.12       1498.77\n",
      "       CORE_ERR    2.15498e-35            0.0   2.15498e-35   2.15498e-35\n",
      "           XMAX        180.498          103.5   1.73182e-05       715.344\n",
      "       XMAX_ERR       0.139642       0.219459           0.0       2.10419\n",
      "         ENERGY        4.01037        11.1891      0.260853       102.404\n",
      "     ENERGY_ERR       0.275993       0.609169     0.0206973        5.2606\n",
      "        HIL_MSW       0.120316       0.589311      -1.99959      0.899996\n",
      "    HIL_MSW_ERR       0.101993       0.024667     0.0285308      0.190832\n",
      "        HIL_MSL       0.278525       0.895174      -1.99107       1.99965\n",
      "    HIL_MSL_ERR       0.144057      0.0354054     0.0306744      0.289097\n"
     ]
    },
    {
     "name": "stderr",
     "output_type": "stream",
     "text": [
      "/Users/deil/Library/Python/3.5/lib/python/site-packages/astropy-1.2.dev14867-py3.5-macosx-10.11-x86_64.egg/astropy/table/column.py:263: FutureWarning: elementwise comparison failed; returning scalar instead, but in the future will perform elementwise comparison\n",
      "  return self.data.__eq__(other)\n"
     ]
    }
   ],
   "source": [
    "table.info('stats')"
   ]
  },
  {
   "cell_type": "code",
   "execution_count": 4,
   "metadata": {
    "collapsed": false
   },
   "outputs": [
    {
     "data": {
      "text/plain": [
       "(-1, 1)"
      ]
     },
     "execution_count": 4,
     "metadata": {},
     "output_type": "execute_result"
    },
    {
     "data": {
      "image/png": "[encoded data removed]",
      "text/plain": [
       "<matplotlib.figure.Figure at 0x10e363b38>"
      ]
     },
     "metadata": {},
     "output_type": "display_data"
    }
   ],
   "source": [
    "plt.plot(np.tan(table['FOV_RADEC_LON']), table['SKYY_RADEC'] - table['FOV_RADEC_LON'], 'o')\n",
    "plt.xlim(-10, 10)\n",
    "plt.ylim(-1, 1)"
   ]
  },
  {
   "cell_type": "code",
   "execution_count": null,
   "metadata": {
    "collapsed": true
   },
   "outputs": [],
   "source": []
  }
 ],
 "metadata": {
  "kernelspec": {
   "display_name": "Python 3",
   "language": "python",
   "name": "python3"
  },
  "language_info": {
   "codemirror_mode": {
    "name": "ipython",
    "version": 3
   },
   "file_extension": ".py",
   "mimetype": "text/x-python",
   "name": "python",
   "nbconvert_exporter": "python",
   "pygments_lexer": "ipython3",
   "version": "3.5.1"
  }
 },
 "nbformat": 4,
 "nbformat_minor": 0
}
